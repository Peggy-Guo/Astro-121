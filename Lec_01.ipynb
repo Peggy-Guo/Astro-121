{
 "cells": [
  {
   "cell_type": "code",
   "execution_count": 3,
   "metadata": {},
   "outputs": [],
   "source": [
    "import ugradio\n",
    "import numpy as np"
   ]
  },
  {
   "cell_type": "code",
   "execution_count": 3,
   "metadata": {},
   "outputs": [],
   "source": [
    "data = ugradio.pico.capture_data(\"1V\",divisor=1,dual_mode=True,nsamples=1000,nblocks=2)"
   ]
  },
  {
   "cell_type": "code",
   "execution_count": 4,
   "metadata": {},
   "outputs": [
    {
     "data": {
      "text/plain": [
       "(2, 2, 1000)"
      ]
     },
     "execution_count": 4,
     "metadata": {},
     "output_type": "execute_result"
    }
   ],
   "source": [
    "data.shape"
   ]
  },
  {
   "cell_type": "code",
   "execution_count": 5,
   "metadata": {},
   "outputs": [
    {
     "data": {
      "text/plain": [
       "array([[[ 768,  768,  768, ...,  768,  768,  768],\n",
       "        [-512, -512, -256, ..., -512, -512, -512]],\n",
       "\n",
       "       [[-512, -768, -768, ..., -256, -512, -512],\n",
       "        [ 768,  768,  768, ...,  768,  768,  768]]], dtype=int16)"
      ]
     },
     "execution_count": 5,
     "metadata": {},
     "output_type": "execute_result"
    }
   ],
   "source": [
    "data"
   ]
  },
  {
   "cell_type": "code",
   "execution_count": 13,
   "metadata": {},
   "outputs": [],
   "source": [
    "np.savez('data.npz',data=data,con = \"'1V',divisor=1,dual_mode=True,nsamples=1000,nblocks=2\")"
   ]
  },
  {
   "cell_type": "code",
   "execution_count": 18,
   "metadata": {},
   "outputs": [],
   "source": [
    "file = np.load('data.npz')"
   ]
  },
  {
   "cell_type": "code",
   "execution_count": 19,
   "metadata": {},
   "outputs": [
    {
     "data": {
      "text/plain": [
       "array([[[ 17152, -17152,  17152, ..., -15104,  16128, -16640],\n",
       "        [ 15872, -14848,  13824, ..., -17152,  17152, -16640]],\n",
       "\n",
       "       [[  1792,  15616,  21504, ..., -19712, -11008,   3072],\n",
       "        [-15104, -20480, -16640, ...,  10496,  -3840, -15872]]],\n",
       "      dtype=int16)"
      ]
     },
     "execution_count": 19,
     "metadata": {},
     "output_type": "execute_result"
    }
   ],
   "source": [
    "data = file['data']\n",
    "data"
   ]
  },
  {
   "cell_type": "code",
   "execution_count": 20,
   "metadata": {},
   "outputs": [
    {
     "data": {
      "text/plain": [
       "(array([[ 17152, -17152,  17152, ..., -15104,  16128, -16640],\n",
       "        [ 15872, -14848,  13824, ..., -17152,  17152, -16640]], dtype=int16),\n",
       " array([[  1792,  15616,  21504, ..., -19712, -11008,   3072],\n",
       "        [-15104, -20480, -16640, ...,  10496,  -3840, -15872]], dtype=int16))"
      ]
     },
     "execution_count": 20,
     "metadata": {},
     "output_type": "execute_result"
    }
   ],
   "source": [
    "a = data[0]\n",
    "b = data[1]\n",
    "a,b"
   ]
  },
  {
   "cell_type": "code",
   "execution_count": 9,
   "metadata": {
    "collapsed": true
   },
   "outputs": [
    {
     "data": {
      "text/plain": [
       "array([ 17152, -17152,  17152, -16384,  15616, -14592,  13568, -12032,\n",
       "        10496,  -8448,   6656,  -4608,   2560,   -256,  -1792,   4096,\n",
       "        -6144,   8192,  -9728,  11520, -13056,  14336, -15360,  16384,\n",
       "       -16896,  17152, -17152,  16896, -16384,  15872, -14592,  13568,\n",
       "       -12032,  10496,  -8448,   6656,  -4608,   2560,   -256,  -1792,\n",
       "         4096,  -5888,   8192,  -9728,  11520, -13056,  14336, -15360,\n",
       "        16384, -16896,  17152, -17152,  17152, -16384,  15872, -14592,\n",
       "        13568, -12032,  10496,  -8448,   6656,  -4608,   2560,   -256,\n",
       "        -1792,   3840,  -5888,   7936,  -9728,  11520, -13056,  14336,\n",
       "       -15360,  16384, -16896,  17152, -17152,  17152, -16384,  15872,\n",
       "       -14592,  13568, -12032,  10496,  -8704,   6656,  -4608,   2560,\n",
       "         -256,  -1792,   3840,  -5888,   7936,  -9728,  11520, -13056,\n",
       "        14336, -15360,  16384, -16896,  17152, -17152,  17152, -16384,\n",
       "        15872, -14592,  13568, -12032,  10496,  -8704,   6656,  -4608,\n",
       "         2560,   -256,  -1792,   3840,  -5888,   7936,  -9728,  11520,\n",
       "       -12800,  14336, -15360,  16384, -16896,  17152, -17152,  16896,\n",
       "       -16384,  15872, -14592,  13568, -12032,  10496,  -8704,   6912,\n",
       "        -4608,   2560,   -256,  -1792,   3840,  -5888,   7936,  -9728,\n",
       "        11520, -13056,  14336, -15360,  16384, -16896,  17152, -17152,\n",
       "        17152, -16384,  15872, -14848,  13568, -12032,  10496,  -8704,\n",
       "         6912,  -4608,   2560,   -512,  -1792,   3840,  -5888,   7936,\n",
       "        -9728,  11520, -13056,  14336, -15360,  16384, -16896,  17152,\n",
       "       -17152,  16896, -16384,  15872, -14848,  13568, -12032,  10496,\n",
       "        -8704,   6912,  -4608,   2560,   -256,  -1792,   3840,  -5888,\n",
       "         7936,  -9728,  11520, -13056,  14336, -15360,  16384, -16896,\n",
       "        17408, -17152,  16896, -16384,  15872, -14848,  13568, -12032,\n",
       "        10496,  -8704,   6912,  -4608,   2816,   -512,  -1792,   3840,\n",
       "        -5888,   7936,  -9728,  11520, -12800,  14336, -15360,  16384,\n",
       "       -16896,  17152, -17152,  17152, -16384,  15872, -14848,  13568,\n",
       "       -12032,  10496,  -8704,   6912,  -4608,   2560,   -256,  -1536,\n",
       "         3840,  -5888,   7936,  -9728,  11520, -13056,  14336, -15360,\n",
       "        16384, -16896,  17152, -17152,  17152, -16384,  15872, -14848,\n",
       "        13568, -12032,  10496,  -8704,   6912,  -4608,   2560,   -512,\n",
       "        -1536,   3840,  -5888,   7936,  -9728,  11520, -13056,  14336,\n",
       "       -15360,  16128, -16896,  17152, -17152,  17152, -16640,  15872,\n",
       "       -14848,  13568, -12032,  10496,  -8704,   6912,  -4864,   2560,\n",
       "         -512,  -1536,   3840,  -5888,   7936,  -9728,  11520, -12800,\n",
       "        14336, -15360,  16384, -16896,  17152, -17152,  17152, -16384,\n",
       "        15872, -14848,  13568, -12032,  10496,  -8704,   6912,  -4864,\n",
       "         2816,   -512,  -1536,   3840,  -5888,   7936,  -9728,  11520,\n",
       "       -12800,  14336, -15360,  16384, -16640,  17152, -17152,  17152,\n",
       "       -16640,  15872, -14848,  13568, -12032,  10752,  -8704,   6912,\n",
       "        -4608,   2816,   -512,  -1536,   3840,  -5888,   7936,  -9728,\n",
       "        11520, -12800,  14336, -15360,  16384, -16640,  17152, -17152,\n",
       "        17152, -16384,  15872, -14848,  13568, -12288,  10496,  -8704,\n",
       "         6912,  -4608,   2816,   -512,  -1536,   3840,  -5888,   7936,\n",
       "        -9728,  11520, -12800,  14336, -15360,  16128, -16896,  17152,\n",
       "       -17152,  17152, -16384,  15872, -14848,  13568, -12032,  10752,\n",
       "        -8704,   6912,  -4864,   2816,   -512,  -1536,   3840,  -5632,\n",
       "         7936,  -9728,  11520, -12800,  14336, -15360,  16128, -16640,\n",
       "        17152, -17152,  17152, -16640,  15872, -14848,  13568, -12288,\n",
       "        10752,  -8704,   6912,  -4864,   2816,   -512,  -1536,   3840,\n",
       "        -5632,   7936,  -9728,  11520, -12800,  14336, -15360,  16128,\n",
       "       -16896,  17152, -17152,  17152, -16384,  15872, -14848,  13824,\n",
       "       -12288,  10752,  -8704,   6912,  -4864,   2816,   -512,  -1536,\n",
       "         3840,  -5888,   7936,  -9728,  11520, -12800,  14336, -15360,\n",
       "        16128, -16640,  17152, -17152,  17152, -16384,  15872, -14848,\n",
       "        13824, -12032,  10752,  -8704,   6912,  -4864,   2816,   -512,\n",
       "        -1536,   3840,  -5888,   7936,  -9728,  11520, -12800,  14336,\n",
       "       -15360,  16128, -16896,  17152, -17152,  17152, -16384,  15872,\n",
       "       -14848,  13568, -12288,  10752,  -8704,   6912,  -4864,   2816,\n",
       "         -512,  -1536,   3840,  -5632,   7936,  -9728,  11520, -12800,\n",
       "        14336, -15360,  16384, -16640,  17152, -17152,  17152, -16640,\n",
       "        15872, -14848,  13568, -12288,  10752,  -8704,   6912,  -4864,\n",
       "         2816,   -512,  -1536,   3840,  -5632,   7936,  -9472,  11520,\n",
       "       -12800,  14336, -15360,  16384, -16640,  17152, -17152,  17152,\n",
       "       -16384,  15872, -14848,  13824, -12032,  10752,  -8704,   6912,\n",
       "        -4864,   2816,   -512,  -1536,   3840,  -5632,   7936,  -9472,\n",
       "        11520, -12800,  14336, -15360,  16128, -16640,  17152, -17152,\n",
       "        17152, -16640,  15872, -14848,  13824, -12288,  10752,  -8704,\n",
       "         6912,  -4864,   2816,   -512,  -1536,   3584,  -5632,   7936,\n",
       "        -9472,  11264, -12800,  14336, -15104,  16384, -16640,  17152,\n",
       "       -17152,  17152, -16384,  15872, -14848,  13824, -12288,  10752,\n",
       "        -8960,   7168,  -4864,   2816,   -512,  -1536,   3584,  -5632,\n",
       "         7680,  -9472,  11520, -12800,  14336, -15360,  16128, -16640,\n",
       "        17152, -17152,  17152, -16384,  15872, -14848,  13824, -12288,\n",
       "        10752,  -8704,   6912,  -4864,   2816,   -512,  -1536,   3840,\n",
       "        -5632,   7680,  -9472,  11520, -12800,  14336, -15360,  16128,\n",
       "       -16640,  17152, -17152,  17152, -16384,  15872, -14848,  13824,\n",
       "       -12288,  10752,  -8960,   7168,  -4864,   2816,   -512,  -1536,\n",
       "         3584,  -5632,   7680,  -9472,  11520, -12800,  14336, -15104,\n",
       "        16128, -16640,  17152, -17152,  17152, -16640,  15872, -14848,\n",
       "        13824, -12288,  10752,  -8960,   7168,  -4864,   2816,   -512,\n",
       "        -1280,   3584,  -5632,   7680,  -9472,  11264, -12800,  14080,\n",
       "       -15360,  16128, -16896,  17152, -17152,  17152, -16384,  15872,\n",
       "       -14848,  13824, -12288,  10752,  -8960,   7168,  -4864,   3072,\n",
       "         -512,  -1536,   3584,  -5632,   7680,  -9472,  11264, -12800,\n",
       "        14336, -15104,  16128, -16640,  17152, -17152,  17152, -16384,\n",
       "        15872, -14848,  13824, -12288,  10752,  -8960,   7168,  -5120,\n",
       "         3072,   -768,  -1280,   3584,  -5632,   7680,  -9472,  11264,\n",
       "       -12800,  14080, -15104,  16128, -16896,  17152, -17152,  17152,\n",
       "       -16640,  15872, -14848,  13824, -12288,  10752,  -8960,   7168,\n",
       "        -4864,   2816,   -512,  -1280,   3584,  -5632,   7680,  -9472,\n",
       "        11264, -12800,  14080, -15360,  16128, -16640,  17152, -17152,\n",
       "        17152, -16640,  16128, -14848,  13824, -12288,  10752,  -8960,\n",
       "         7168,  -4864,   2816,   -768,  -1280,   3584,  -5632,   7680,\n",
       "        -9472,  11264, -12800,  14080, -15104,  16128, -16640,  17152,\n",
       "       -17152,  17152, -16640,  15872, -14848,  13824, -12288,  10752,\n",
       "        -8960,   7168,  -4864,   2816,   -768,  -1280,   3584,  -5632,\n",
       "         7680,  -9472,  11264, -12544,  14080, -15104,  16128, -16640,\n",
       "        17152, -17152,  17152, -16640,  15872, -14848,  13824, -12288,\n",
       "        10752,  -8960,   7168,  -4864,   3072,   -768,  -1280,   3584,\n",
       "        -5632,   7680,  -9472,  11264, -12800,  14080, -15104,  16128,\n",
       "       -16640,  17152, -17152,  17152, -16640,  15872, -14848,  13824,\n",
       "       -12288,  10752,  -8960,   7168,  -4864,   3072,   -768,  -1280,\n",
       "         3584,  -5632,   7680,  -9472,  11264, -12800,  14080, -15104,\n",
       "        16128, -16640,  17152, -17152,  17152, -16640,  15872, -14848,\n",
       "        13824, -12288,  10752,  -8960,   7168,  -5120,   3072,   -768,\n",
       "        -1280,   3584,  -5632,   7680,  -9472,  11264, -12800,  14080,\n",
       "       -15104,  16128, -16640,  17152, -17152,  17152, -16640,  15872,\n",
       "       -15104,  13824, -12288,  11008,  -8960,   7168,  -5120,   3072,\n",
       "         -768,  -1280,   3584,  -5632,   7680,  -9472,  11264, -12544,\n",
       "        14080, -15104,  16128, -16640,  17152, -17152,  17152, -16640,\n",
       "        16128, -14848,  13824, -12288,  11008,  -8960,   7168,  -5120,\n",
       "         3072,   -768,  -1280,   3584,  -5376,   7680,  -9472,  11264,\n",
       "       -12544,  14080, -15104,  16128, -16640,  17152, -17152,  17152,\n",
       "       -16640,  15872, -14848,  13824, -12288,  10752,  -8960,   7168,\n",
       "        -5120,   3072,   -768,  -1280,   3584,  -5376,   7680,  -9472,\n",
       "        11264, -12544,  14080, -15104,  16128, -16640,  17152, -17152,\n",
       "        17152, -16640,  16128, -14848,  13824, -12288,  11008,  -8960,\n",
       "         7168,  -5120,   3072,   -768,  -1280,   3584,  -5376,   7680,\n",
       "        -9472,  11264, -12544,  14080, -15104,  16128, -16640,  17152,\n",
       "       -17152,  17152, -16640,  15872, -15104,  13824, -12288,  11008,\n",
       "        -8960,   7168,  -5120,   3072,   -768,  -1280,   3584,  -5376,\n",
       "         7680,  -9216,  11264, -12800,  14080, -15104,  16128, -16640],\n",
       "      dtype=int16)"
      ]
     },
     "execution_count": 9,
     "metadata": {},
     "output_type": "execute_result"
    }
   ],
   "source": [
    "a[0]"
   ]
  },
  {
   "cell_type": "code",
   "execution_count": 21,
   "metadata": {},
   "outputs": [
    {
     "data": {
      "image/png": "[encoded data removed]",
      "text/plain": [
       "<Figure size 432x288 with 1 Axes>"
      ]
     },
     "metadata": {
      "needs_background": "light"
     },
     "output_type": "display_data"
    }
   ],
   "source": [
    "import matplotlib.pyplot as plt\n",
    "time = np.arange(100)/(62.5)\n",
    "\n",
    "plt.plot(time,data[1,0,:100]/10000)\n",
    "# plt.plot(b)\n",
    "plt.show()"
   ]
  },
  {
   "cell_type": "code",
   "execution_count": 18,
   "metadata": {},
   "outputs": [
    {
     "ename": "KeyError",
     "evalue": "'arr_0 is not a file in the archive'",
     "output_type": "error",
     "traceback": [
      "\u001b[0;31m---------------------------------------------------------------------------\u001b[0m",
      "\u001b[0;31mKeyError\u001b[0m                                  Traceback (most recent call last)",
      "\u001b[0;32m<ipython-input-18-0ef721ff7b6a>\u001b[0m in \u001b[0;36m<module>\u001b[0;34m\u001b[0m\n\u001b[1;32m      1\u001b[0m \u001b[0mnpz\u001b[0m \u001b[0;34m=\u001b[0m \u001b[0mnp\u001b[0m\u001b[0;34m.\u001b[0m\u001b[0mload\u001b[0m\u001b[0;34m(\u001b[0m\u001b[0;34m'data.npz'\u001b[0m\u001b[0;34m)\u001b[0m\u001b[0;34m\u001b[0m\u001b[0;34m\u001b[0m\u001b[0m\n\u001b[1;32m      2\u001b[0m \u001b[0mtime\u001b[0m \u001b[0;34m=\u001b[0m \u001b[0mnp\u001b[0m\u001b[0;34m.\u001b[0m\u001b[0marange\u001b[0m\u001b[0;34m(\u001b[0m\u001b[0;36m100\u001b[0m\u001b[0;34m)\u001b[0m\u001b[0;34m/\u001b[0m\u001b[0;34m(\u001b[0m\u001b[0;36m62.5\u001b[0m\u001b[0;34m/\u001b[0m\u001b[0;36m4\u001b[0m\u001b[0;34m)\u001b[0m \u001b[0;31m#hertz divided by divisor\u001b[0m\u001b[0;34m\u001b[0m\u001b[0;34m\u001b[0m\u001b[0m\n\u001b[0;32m----> 3\u001b[0;31m \u001b[0mdata\u001b[0m \u001b[0;34m=\u001b[0m \u001b[0mnpz\u001b[0m\u001b[0;34m[\u001b[0m\u001b[0;34m'arr_0'\u001b[0m\u001b[0;34m]\u001b[0m\u001b[0;34m\u001b[0m\u001b[0;34m\u001b[0m\u001b[0m\n\u001b[0m\u001b[1;32m      4\u001b[0m \u001b[0mplt\u001b[0m\u001b[0;34m.\u001b[0m\u001b[0mplot\u001b[0m\u001b[0;34m(\u001b[0m\u001b[0mtime\u001b[0m\u001b[0;34m,\u001b[0m\u001b[0mdata\u001b[0m\u001b[0;34m[\u001b[0m\u001b[0;36m0\u001b[0m\u001b[0;34m,\u001b[0m\u001b[0;36m0\u001b[0m\u001b[0;34m,\u001b[0m\u001b[0;34m:\u001b[0m\u001b[0;36m100\u001b[0m\u001b[0;34m]\u001b[0m\u001b[0;34m/\u001b[0m\u001b[0;36m100000\u001b[0m\u001b[0;34m)\u001b[0m \u001b[0;31m#scale down\u001b[0m\u001b[0;34m\u001b[0m\u001b[0;34m\u001b[0m\u001b[0m\n\u001b[1;32m      5\u001b[0m \u001b[0mplt\u001b[0m\u001b[0;34m.\u001b[0m\u001b[0mshow\u001b[0m\u001b[0;34m(\u001b[0m\u001b[0;34m)\u001b[0m\u001b[0;34m\u001b[0m\u001b[0;34m\u001b[0m\u001b[0m\n",
      "\u001b[0;32m/usr/local/lib/python3.6/dist-packages/numpy/lib/npyio.py\u001b[0m in \u001b[0;36m__getitem__\u001b[0;34m(self, key)\u001b[0m\n\u001b[1;32m    264\u001b[0m                 \u001b[0;32mreturn\u001b[0m \u001b[0mself\u001b[0m\u001b[0;34m.\u001b[0m\u001b[0mzip\u001b[0m\u001b[0;34m.\u001b[0m\u001b[0mread\u001b[0m\u001b[0;34m(\u001b[0m\u001b[0mkey\u001b[0m\u001b[0;34m)\u001b[0m\u001b[0;34m\u001b[0m\u001b[0;34m\u001b[0m\u001b[0m\n\u001b[1;32m    265\u001b[0m         \u001b[0;32melse\u001b[0m\u001b[0;34m:\u001b[0m\u001b[0;34m\u001b[0m\u001b[0;34m\u001b[0m\u001b[0m\n\u001b[0;32m--> 266\u001b[0;31m             \u001b[0;32mraise\u001b[0m \u001b[0mKeyError\u001b[0m\u001b[0;34m(\u001b[0m\u001b[0;34m\"%s is not a file in the archive\"\u001b[0m \u001b[0;34m%\u001b[0m \u001b[0mkey\u001b[0m\u001b[0;34m)\u001b[0m\u001b[0;34m\u001b[0m\u001b[0;34m\u001b[0m\u001b[0m\n\u001b[0m\u001b[1;32m    267\u001b[0m \u001b[0;34m\u001b[0m\u001b[0m\n\u001b[1;32m    268\u001b[0m \u001b[0;34m\u001b[0m\u001b[0m\n",
      "\u001b[0;31mKeyError\u001b[0m: 'arr_0 is not a file in the archive'"
     ]
    }
   ],
   "source": [
    "npz = np.load('data.npz')\n",
    "time = np.arange(100)/(62.5/4) #hertz divided by divisor\n",
    "data = npz['arr_0']\n",
    "plt.plot(time,data[0,0,:100]/100000) #scale down \n",
    "plt.show()"
   ]
  },
  {
   "cell_type": "code",
   "execution_count": 1,
   "metadata": {},
   "outputs": [],
   "source": [
    "!mv ../data.npz ."
   ]
  },
  {
   "cell_type": "code",
   "execution_count": 4,
   "metadata": {},
   "outputs": [],
   "source": [
    "file = np.load('data.npz')"
   ]
  },
  {
   "cell_type": "code",
   "execution_count": 17,
   "metadata": {},
   "outputs": [],
   "source": [
    "data = file[\"data\"][1]"
   ]
  },
  {
   "cell_type": "code",
   "execution_count": 16,
   "metadata": {},
   "outputs": [
    {
     "data": {
      "text/plain": [
       "array([[ 17152, -17152,  17152, ..., -15104,  16128, -16640],\n",
       "       [ 15872, -14848,  13824, ..., -17152,  17152, -16640]], dtype=int16)"
      ]
     },
     "execution_count": 16,
     "metadata": {},
     "output_type": "execute_result"
    }
   ],
   "source": [
    "data"
   ]
  },
  {
   "cell_type": "code",
   "execution_count": 12,
   "metadata": {},
   "outputs": [
    {
     "data": {
      "text/plain": [
       "['data', 'con']"
      ]
     },
     "execution_count": 12,
     "metadata": {},
     "output_type": "execute_result"
    }
   ],
   "source": [
    "np.savez()"
   ]
  },
  {
   "cell_type": "code",
   "execution_count": null,
   "metadata": {},
   "outputs": [],
   "source": []
  }
 ],
 "metadata": {
  "kernelspec": {
   "display_name": "Python 3",
   "language": "python",
   "name": "python3"
  },
  "language_info": {
   "codemirror_mode": {
    "name": "ipython",
    "version": 3
   },
   "file_extension": ".py",
   "mimetype": "text/x-python",
   "name": "python",
   "nbconvert_exporter": "python",
   "pygments_lexer": "ipython3",
   "version": "3.6.12"
  }
 },
 "nbformat": 4,
 "nbformat_minor": 4
}
